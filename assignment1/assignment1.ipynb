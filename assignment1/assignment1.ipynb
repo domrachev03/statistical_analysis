{
 "cells": [
  {
   "cell_type": "markdown",
   "metadata": {},
   "source": [
    "## Statistics for Data Science and Robotics, Assignment 1\n",
    "by Domrachev Ivan, B20-Ro-01"
   ]
  },
  {
   "cell_type": "markdown",
   "metadata": {},
   "source": [
    "**Task Description** \n",
    "> Citizent of city I has recently complained about the quality of the central water supply. The main complains are a strong odor of chlorine and skin itching. Being a responsible person, highly respected Mayor of the city I invited a water quality control service to confirm the high concentration of chlorine in the water. Out of collected $n = 57$ samples, $x = 11$ had a concentration of Chlorine above the governmental standards. Let $\\theta$ denote a true probability that the concentration of Chlorine in a sample exceeds the governmental threshold.\n"
   ]
  },
  {
   "cell_type": "code",
   "execution_count": 25,
   "metadata": {},
   "outputs": [],
   "source": [
    "import numpy as np\n",
    "import scipy.stats as st\n",
    "from matplotlib import pyplot as plt"
   ]
  },
  {
   "cell_type": "markdown",
   "metadata": {},
   "source": [
    "## Task 1"
   ]
  },
  {
   "cell_type": "markdown",
   "metadata": {},
   "source": [
    "> What is the conditional distribution of X, the number of samples having a Chlorine concentration above the threshold, given θ?"
   ]
  },
  {
   "cell_type": "markdown",
   "metadata": {},
   "source": [
    "Since the water could have either excessive or normal Chlorine concentration, we are dealing with *binomial distribution*:\n",
    "$$X = B(n, \\theta),$$\n",
    "and the probability that out of 57 samples we got 11 excessive ones is:\n",
    "$$P(X=x) = \\left( \\begin{aligned} n \\\\ x \\end{aligned}\\right) \\theta^x (1-\\theta)^(n-x)$$"
   ]
  },
  {
   "cell_type": "markdown",
   "metadata": {},
   "source": [
    "## Task 2"
   ]
  },
  {
   "cell_type": "markdown",
   "metadata": {},
   "source": [
    "> Before the experiment, the control service experts elicited that the expected value of $\\theta$ is $0.2$ with a standard deviation of $0.16$. Determine the parameters $\\alpha$ and $\\beta$ of a Beta prior distribution for $\\theta$ with this prior mean and standard deviation. (Round $\\alpha$ and $\\beta$ to the nearest integer)."
   ]
  },
  {
   "cell_type": "markdown",
   "metadata": {},
   "source": [
    "To avoid numerical integration, it would be nice to deal with continuous distribution, but with similar properties to discrete binomial distribution. Such distributions in context of Bayesian statistics are called [Conjugate Prior](https://en.wikipedia.org/wiki/Conjugate_prior).\n",
    "\n",
    "For the binomial distribution, the conjugate prior is Beta distribution:\n",
    "$$p(\\theta) = \\frac{\\theta^{\\alpha-1}(1-\\theta)^{\\beta-1}}{\\Beta_f(\\alpha, \\beta)},$$\n",
    "where $\\Beta_f(\\alpha, \\beta)$ is a [Beta function](https://en.wikipedia.org/wiki/Beta_function)."
   ]
  },
  {
   "cell_type": "markdown",
   "metadata": {},
   "source": [
    "Given the distribution, the mean and variance are:\n",
    "$$E[B] = \\frac{\\alpha}{\\alpha + \\beta}$$\n",
    "$$Var[B] = \\frac{\\alpha\\beta}{(\\alpha+\\beta)^2(\\alpha+\\beta+1)}$$"
   ]
  },
  {
   "cell_type": "markdown",
   "metadata": {},
   "source": [
    "By solving this sytem of equations w.r.t. $\\alpha$ and $\\beta$, we get:\n",
    "$$\\alpha= \\mu \\left(\\frac{\\mu(1-\\mu)}{\\text{var}}-1\\right)$$\n",
    "$$\\beta = (1 - \\mu)\\left(\\frac{\\mu(1-\\mu)}{\\text{var}}-1\\right),$$\n",
    "if $\\text{var}< \\mu(1-\\mu)$."
   ]
  },
  {
   "cell_type": "code",
   "execution_count": 26,
   "metadata": {},
   "outputs": [
    {
     "name": "stdout",
     "output_type": "stream",
     "text": [
      "1.0500000000000003 4.200000000000001\n",
      "1 4\n"
     ]
    }
   ],
   "source": [
    "mu = 0.2\n",
    "var = 0.16 ** 2\n",
    "\n",
    "# First, check the condition\n",
    "assert var < mu * (1-mu)\n",
    "\n",
    "# Now, proceed with calculating alpha and beta\n",
    "alpha1 = mu * (mu * (1-mu) / var - 1)\n",
    "beta1 = (1-mu) * (mu * (1-mu) / var - 1)\n",
    "\n",
    "print(alpha1, beta1)\n",
    "\n",
    "# Finally, round the hyperparameters\n",
    "alpha1 = int(alpha1)\n",
    "beta1 = int(beta1)\n",
    "\n",
    "print(alpha1, beta1)"
   ]
  },
  {
   "cell_type": "markdown",
   "metadata": {},
   "source": [
    "## Task 3"
   ]
  },
  {
   "cell_type": "markdown",
   "metadata": {},
   "source": [
    "> Find the posterior distribution of $\\theta$ and summarize it by its posterior mean and standard deviation."
   ]
  },
  {
   "cell_type": "markdown",
   "metadata": {},
   "source": [
    "Now, to find the posterior distribution, let's calculate:\n",
    "  1. Likelihood $P(x,n | q=\\theta$, which we have already calculated in task 1.\n",
    "  2. Prior probability $P(q=\\theta)$, which we have already calculated in the task 2.\n",
    "  3. Normalizing term $P(q=\\theta \\mid x,n)$."
   ]
  },
  {
   "cell_type": "markdown",
   "metadata": {
    "vscode": {
     "languageId": "plaintext"
    }
   },
   "source": [
    "$$\\begin{aligned}\n",
    "  P(x, n \\mid q=\\theta) &= {n \\choose x} \\theta^x(1-\\theta)^{n-x},\\\\\n",
    "              P(q=\\theta) &= {\\theta^{\\alpha-1}(1-\\theta)^{\\beta-1} \\over \\Beta(\\alpha,\\beta)},\\\\\n",
    "   P(q=\\theta \\mid x,n) &= \\frac{P(x, n \\mid \\theta)P(\\theta)}{\\int_{-\\infty}^\\infty P(x, n \\mid \\tilde{\\theta})P(\\tilde{\\theta})d\\tilde{\\theta}}\\\\\n",
    "                   & = {{{n \\choose x} \\theta^{x+\\alpha-1}(1-\\theta)^{n-x+\\beta-1} / \\Beta(\\alpha,\\beta)} \\over \\int_{\\tilde{\\theta}=0}^1 \\left({n \\choose x} y^{x+\\alpha-1}(1-\\tilde{\\theta})^{f+\\beta-1} / \\Beta(\\alpha,\\beta)\\right) d\\tilde{\\theta}} \\\\\n",
    "                   & = {\\theta^{x+\\alpha-1}(1-\\theta)^{n-x+\\beta-1} \\over \\Beta_f(x+\\alpha,n-x+\\beta)} = \\Beta(\\alpha + x, \\beta + n - x),\n",
    "\\end{aligned}$$\n",
    "where $\\Beta_f$ is a Beta function (not distribution)"
   ]
  },
  {
   "cell_type": "markdown",
   "metadata": {},
   "source": [
    "As such, the resulting distribution is also a Beta distribution with different hyperparameters $\\alpha, \\beta$. The mean and variance are calculated as before."
   ]
  },
  {
   "cell_type": "code",
   "execution_count": 27,
   "metadata": {},
   "outputs": [
    {
     "name": "stdout",
     "output_type": "stream",
     "text": [
      "Posterior distribution is X_post = Beta(12, 50), E[X_post] = 0.1935483870967742, Std[X_post] = 3.135842273423158\n"
     ]
    }
   ],
   "source": [
    "n = 57\n",
    "x = 11\n",
    "\n",
    "# Calculating new alpha and beta hyperparameters for posterior probability\n",
    "alpha2 = alpha1 + x\n",
    "beta2 = beta1 + n - x\n",
    "\n",
    "# Now, their mean and variance could be calculated as follows\n",
    "mu2 = alpha2 / (alpha2 + beta2)\n",
    "std2 = np.sqrt((alpha2 * beta2) / (alpha2 + beta2)**2 * (alpha2 + beta2 + 1))\n",
    "\n",
    "print(f\"Posterior distribution is X_post = Beta({alpha2}, {beta2}), E[X_post] = {mu2}, Std[X_post] = {std2}\")"
   ]
  },
  {
   "cell_type": "markdown",
   "metadata": {},
   "source": [
    "## Task 4"
   ]
  },
  {
   "cell_type": "markdown",
   "metadata": {},
   "source": [
    "> Plot the prior, posterior and normalized likelihood."
   ]
  },
  {
   "cell_type": "markdown",
   "metadata": {},
   "source": [
    "Let's do it!"
   ]
  },
  {
   "cell_type": "code",
   "execution_count": 45,
   "metadata": {},
   "outputs": [
    {
     "data": {
      "text/plain": [
       "1.0000000000000007"
      ]
     },
     "execution_count": 45,
     "metadata": {},
     "output_type": "execute_result"
    }
   ],
   "source": [
    "np.sum(normalized_likelihood)"
   ]
  },
  {
   "cell_type": "code",
   "execution_count": 46,
   "metadata": {},
   "outputs": [
    {
     "data": {
      "image/png": "[encoded data removed]",
      "text/plain": [
       "<Figure size 640x480 with 1 Axes>"
      ]
     },
     "metadata": {},
     "output_type": "display_data"
    }
   ],
   "source": [
    "theta = np.arange(0, 1, 1e-6)\n",
    "\n",
    "prior = st.beta.pdf(theta, alpha1, beta1)\n",
    "posterior = st.beta.pdf(theta, alpha2, beta2)\n",
    "normalized_likelihood = st.binom.pmf(x, n, theta)\n",
    "normalized_likelihood /= np.sum(normalized_likelihood)\n",
    "\n",
    "plt.plot(theta, prior, label=\"prior\")\n",
    "plt.plot(theta, posterior, label=\"posterior\")\n",
    "plt.plot(theta, normalized_likelihood, label=\"normalized likelihood\")\n",
    "plt.legend()\n",
    "plt.show()"
   ]
  },
  {
   "cell_type": "markdown",
   "metadata": {},
   "source": [
    "## Task 5"
   ]
  },
  {
   "cell_type": "markdown",
   "metadata": {},
   "source": [
    "> Find the posterior probability that θ < 0.07."
   ]
  },
  {
   "cell_type": "markdown",
   "metadata": {},
   "source": [
    "This probability could be easily computed by using Cummulative Density Function (CDF), which is conviniently defined for the Beta distribution in the scipy:"
   ]
  },
  {
   "cell_type": "code",
   "execution_count": 38,
   "metadata": {},
   "outputs": [
    {
     "name": "stdout",
     "output_type": "stream",
     "text": [
      "P(theta < 0.07) = 0.0009493259260248553\n"
     ]
    }
   ],
   "source": [
    "theta_max = 0.07\n",
    "p_leq = st.beta.cdf(0.07, alpha2, beta2)\n",
    "\n",
    "print(f\"P(theta < 0.07) = {p_leq}\")"
   ]
  },
  {
   "cell_type": "markdown",
   "metadata": {},
   "source": [
    "## Task 6"
   ]
  },
  {
   "cell_type": "markdown",
   "metadata": {},
   "source": [
    "> Find a central 95% posterior credible interval for θ."
   ]
  },
  {
   "cell_type": "markdown",
   "metadata": {},
   "source": [
    "The approach is similar to task 5, but now we would use Percent Point Function (PPF), which gets the minimal and maximal percentage (i.e. which is left on the left and on the right) and returns values of function, which bound them. In our case the values are $0.025$ and $0.975$"
   ]
  },
  {
   "cell_type": "code",
   "execution_count": 48,
   "metadata": {},
   "outputs": [
    {
     "name": "stdout",
     "output_type": "stream",
     "text": [
      "Interval [0.10599421987043235, 0.299786377267992] is a 95% credible bound on theta\n"
     ]
    }
   ],
   "source": [
    "theta_min, theta_max = st.beta.ppf([0.025, 0.975], alpha2, beta2)\n",
    "\n",
    "print(f\"Interval [{theta_min}, {theta_max}] is a 95% credible bound on theta\")"
   ]
  }
 ],
 "metadata": {
  "kernelspec": {
   "display_name": "stat_analysis",
   "language": "python",
   "name": "python3"
  },
  "language_info": {
   "codemirror_mode": {
    "name": "ipython",
    "version": 3
   },
   "file_extension": ".py",
   "mimetype": "text/x-python",
   "name": "python",
   "nbconvert_exporter": "python",
   "pygments_lexer": "ipython3",
   "version": "3.12.1"
  }
 },
 "nbformat": 4,
 "nbformat_minor": 2
}
